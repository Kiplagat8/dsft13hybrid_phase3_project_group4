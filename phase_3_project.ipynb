{
 "cells": [
  {
   "cell_type": "markdown",
   "id": "03c48de1-44b7-4438-b1db-5cac96f11eb3",
   "metadata": {},
   "source": [
    "### Introduction"
   ]
  }
 ],
 "metadata": {
  "kernelspec": {
   "display_name": "Python (ds_project)",
   "language": "python",
   "name": "ds_project"
  },
  "language_info": {
   "codemirror_mode": {
    "name": "ipython",
    "version": 3
   },
   "file_extension": ".py",
   "mimetype": "text/x-python",
   "name": "python",
   "nbconvert_exporter": "python",
   "pygments_lexer": "ipython3",
   "version": "3.11.13"
  }
 },
 "nbformat": 4,
 "nbformat_minor": 5
}
