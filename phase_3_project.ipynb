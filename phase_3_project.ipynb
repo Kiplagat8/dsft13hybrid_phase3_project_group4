{
 "cells": [
  {
   "cell_type": "markdown",
   "id": "03c48de1-44b7-4438-b1db-5cac96f11eb3",
   "metadata": {},
   "source": [
    "# <span style='color:#2E86C1'>SyriaTel Customer Churn</span>"
   ]
  },
  {
   "cell_type": "markdown",
   "id": "09789fdc",
   "metadata": {},
   "source": [
    "<h2><b><span style='font-family:Georgia'> 1. Business Understanding </span></b></h2>"
   ]
  },
  {
   "cell_type": "markdown",
   "id": "4d9e12e4",
   "metadata": {},
   "source": [
    "<div style=\"background-color:#FFD100; padding:10px; border-radius:5px;\">\n",
    "<b>1.1 Business Overview</b> \n",
    "</div>\n",
    "\n",
    "<span style='font-family:Georgia'>The telecommunications industry is one of the most competitive sectors worldwide, where customer retention plays a critical role in profitability and long-term sustainability. While acquiring new customers is costly, retaining existing ones is significantly more profitable (Propello, 2024).Globally, churn rates in telecom average around 31% annually, with mobile churn around 20%, highlighting the magnitude of the challenge.\n",
    "\n",
    "Within Syria, the mobile telecom market is dominated by two key players: Syriatel and MTN-Syria. Syriatel, founded in 2000, currently holds about 71% of the market share and reported 20% revenue growth in 2019, equivalent to SYP 221bn (~US$242m) . Despite its dominance, Syriatel faces challenges from economic sanctions, instability, and increasing customer expectations for service quality, pricing, and personalization.\n",
    "(The Syria Report, 2020),For this reason, understanding what factors drive churn and how to reduce it is a key business priority.\n",
    "\n",
    "Churn in this context refers to the proportion of customers who stop using Syriatel’s services, either by terminating contracts or switching to competitors. Understanding and reducing churn is crucial for Syriatel’s financial health and market leadership.</span>"
   ]
  },
  {
   "cell_type": "markdown",
   "id": "99754f5a",
   "metadata": {},
   "source": [
    "<div style=\"background-color:#FFD100; padding:10px; border-radius:5px;\">\n",
    "<b>1.2 Problem Statement</b> \n",
    "</div>\n",
    "\n",
    "<span style='font-family:Georgia'>Syriatel is experiencing customer churn that directly threatens its revenues and market position. While it has historically maintained a strong market share, rising competition, service quality issues, evolving customer demands, and broader political-economic instability increase the likelihood of customer attrition. Without effective churn prediction and retention strategies, Syriatel risks losing valuable customers, resulting in revenue loss, reduced market share, and diminished competitiveness.</span>"
   ]
  },
  {
   "cell_type": "markdown",
   "id": "5a9e70b4",
   "metadata": {},
   "source": [
    "<span style='font-family:Georgia'><div style=\"background-color:#FFD100; padding:10px; border-radius:5px;\">\n",
    "<b>1.3 Business Objective</b> \n",
    "</div></span>"
   ]
  },
  {
   "cell_type": "markdown",
   "id": "cc9a7c86",
   "metadata": {},
   "source": [
    "<span style='font-family:Georgia'><h7><b>1.3.1 Main objective:</b></h7>\n",
    "\n",
    "To develop a machine learning classifier that predicts whether a Syriatel customer is likely to churn, enabling data-driven strategies for proactive retention.</span>"
   ]
  },
  {
   "cell_type": "markdown",
   "id": "f7bf2264",
   "metadata": {},
   "source": [
    "<span style='font-family:Georgia'><h7><b>1.3.2 Specific objectives:</b></h7>\n",
    "\n",
    "1. To explore customer demographics and usage behaviour influencing churn.\n",
    "2. To determine how charges influence customer churn\n",
    "3. To develop and evaluate machine learning models that classify whether a customer is likely to churn.\n",
    "4. Optimize the models for best perfomance.\n",
    "5. To provide actionable insights that support Syriatel in designing targeted retention campaigns (e.g., loyalty programs, personalized offers)</span>"
   ]
  },
  {
   "cell_type": "markdown",
   "id": "a45cc8fe",
   "metadata": {},
   "source": [
    "<span style='font-family:Georgia'><div style=\"background-color:#FFD100; padding:5px; border-radius:3px;\">\n",
    "<b>1.4 Research Questions</b> \n",
    "</div>\n",
    "\n",
    "1. How does customer demographics and usage behaviour influence churn?\n",
    "2. How charges influence customer churn?\n",
    "3. What machine learning models best predict whether a customer is likely to churn.\n",
    "4. Which optimization techniques and modeling approaches most effectively improve the predictive performance of machine learning model\n",
    "5. How can predictive insights be applied to practical retention strategies to minimize churn?</span>"
   ]
  },
  {
   "cell_type": "markdown",
   "id": "8dd72f29",
   "metadata": {},
   "source": [
    "<span style='font-family:Georgia'><div style=\"background-color:#FFD100; padding:5px; border-radius:5px;\">\n",
    "<b>1.5 Success Criteria</b> \n",
    "</div>\n",
    "\n",
    "* <b>Model Performance</b>: Achieve at least 85% accuracy and a high AUC score (>0.85) in predicting churn.\n",
    "* <b>Business Impact</b>: Provide insights that reduce churn rates by enabling proactive retention strategies, targeting high-risk customers before they leave."
   ]
  },
  {
   "cell_type": "markdown",
   "id": "02451f5e",
   "metadata": {},
   "source": [
    "<h2><b><span style='font-family:Georgia'> 2. Data Understanding </span></b></h2>"
   ]
  },
  {
   "cell_type": "markdown",
   "id": "d9b454fd",
   "metadata": {},
   "source": [
    "<div style=\"background-color:#FFD100; padding:10px; border-radius:5px;\">\n",
    "<b> Data overview</b> \n",
    "</div>"
   ]
  },
  {
   "cell_type": "markdown",
   "id": "41a4309e",
   "metadata": {},
   "source": [
    "<span style='font-family:Georgia'>The dataset is from [kaggle](https://www.kaggle.com/datasets/becksddf/churn-in-telecoms-dataset) with 3333 rows aand 21 columns</span>"
   ]
  },
  {
   "cell_type": "markdown",
   "id": "96929001",
   "metadata": {},
   "source": [
    "<div style=\"background-color:#FFD100; padding:10px; border-radius:5px;\">\n",
    "<b> Key Attributes</b> \n",
    "</div>"
   ]
  },
  {
   "cell_type": "markdown",
   "id": "31843c62",
   "metadata": {},
   "source": [
    "* `state`: The state of the customer.\n",
    "* `account length`: The length of the account in days .\n",
    "* `area code`: The area code of the customer's phone number.\n",
    "* `phone number`: The phone number of the customer.\n",
    "* `international plan`: Whether the customer has an international plan or not.\n",
    "* `voice mail plan`: Whether the customer has a voicemail plan or not.\n",
    "* `number vmail messages`: The number of voicemail messages the customer has.\n",
    "* `total day minutes`: Total minutes of day calls.\n",
    "* `total day calls`: Total number of day calls.\n",
    "* `total day charge`: Total charge for the day calls.\n",
    "* `total eve minutes`: Total minutes of evening calls.\n",
    "* `total eve calls`: Total number of evening calls.\n",
    "* `total eve charge`: Total charge for the evening calls.\n",
    "* `total night minutes`: Total minutes of night calls.\n",
    "* `total night call`s`: Total number of night calls.\n",
    "* `total night charge`: Total charge for the night calls.\n",
    "* `total intl minutes`: Total minutes of international calls.\n",
    "* `total intl calls`: Total number of international calls.\n",
    "* `total intl charge`: Total charge for the international calls.\n",
    "* `customer service calls`: Number of times the customer called customer service.\n",
    "* `churn`: Whether the customer churned or not (True/False)."
   ]
  }
 ],
 "metadata": {
  "kernelspec": {
   "display_name": "Python (ds_project)",
   "language": "python",
   "name": "ds_project"
  },
  "language_info": {
   "codemirror_mode": {
    "name": "ipython",
    "version": 3
   },
   "file_extension": ".py",
   "mimetype": "text/x-python",
   "name": "python",
   "nbconvert_exporter": "python",
   "pygments_lexer": "ipython3",
   "version": "3.11.13"
  }
 },
 "nbformat": 4,
 "nbformat_minor": 5
}
